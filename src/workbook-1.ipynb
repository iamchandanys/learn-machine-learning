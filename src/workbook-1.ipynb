{
 "cells": [
  {
   "cell_type": "code",
   "execution_count": null,
   "id": "8a51c8a9",
   "metadata": {},
   "outputs": [],
   "source": [
    "import pandas as pd     # For data manipulation and analysis\n",
    "import numpy as np      # For numerical computations and array operations\n",
    "import matplotlib.pyplot as plt  # For data visualization"
   ]
  },
  {
   "cell_type": "code",
   "execution_count": null,
   "id": "fa9c0e75",
   "metadata": {},
   "outputs": [],
   "source": [
    "df = pd.read_csv('./data/height-weight.csv')  # Load a CSV file into a DataFrame\n",
    "df.head()  # Display the first few rows of the DataFrame"
   ]
  },
  {
   "cell_type": "code",
   "execution_count": null,
   "id": "5d925bcf",
   "metadata": {},
   "outputs": [],
   "source": [
    "# Scatter plot of height vs weight\n",
    "plt.scatter(df['Weight'], df['Height'])\n",
    "plt.title('Height vs Weight Scatter Plot')\n",
    "plt.grid(True)\n",
    "plt.xlabel('Weight')\n",
    "plt.ylabel('Height')"
   ]
  },
  {
   "cell_type": "code",
   "execution_count": null,
   "id": "72365712",
   "metadata": {},
   "outputs": [],
   "source": [
    "# Correlation matrix\n",
    "df.corr()"
   ]
  },
  {
   "cell_type": "code",
   "execution_count": null,
   "id": "5558c4db",
   "metadata": {},
   "outputs": [],
   "source": [
    "# Seaborn for enhanced visualization (if needed)\n",
    "\n",
    "import seaborn as sns  # For advanced data visualization\n",
    "\n",
    "sns.pairplot(df)  # Pairplot to visualize relationships between variables"
   ]
  },
  {
   "cell_type": "markdown",
   "id": "2815114d",
   "metadata": {},
   "source": [
    "## Simple Linear Regression"
   ]
  },
  {
   "cell_type": "code",
   "execution_count": null,
   "id": "571e2f4d",
   "metadata": {},
   "outputs": [
    {
     "name": "stdout",
     "output_type": "stream",
     "text": [
      "<class 'pandas.core.frame.DataFrame'>\n",
      "Independent Variable: (23, 1)\n",
      "<class 'pandas.core.series.Series'>\n",
      "Dependent Variable: (23,)\n"
     ]
    }
   ],
   "source": [
    "# The independent variable should always be a 2D array or DataFrame Type.\n",
    "X = df[['Weight']]\n",
    "print(type(X))  # Output: <class 'pandas.core.frame.DataFrame'>\n",
    "print(\"Independent Variable:\", np.array(X).shape) # Output: (23, 1)  # 23 rows and 1 column\n",
    "\n",
    "# The dependent variable can be a 1D array or Series Type.\n",
    "Y = df['Height']\n",
    "print(type(Y))  # Output: <class 'pandas.core.series.Series'>\n",
    "print(\"Dependent Variable:\", np.array(Y).shape)  # Output: (23,)  # 23 rows, no columns (1D array)"
   ]
  }
 ],
 "metadata": {
  "kernelspec": {
   "display_name": "venv",
   "language": "python",
   "name": "python3"
  },
  "language_info": {
   "codemirror_mode": {
    "name": "ipython",
    "version": 3
   },
   "file_extension": ".py",
   "mimetype": "text/x-python",
   "name": "python",
   "nbconvert_exporter": "python",
   "pygments_lexer": "ipython3",
   "version": "3.12.7"
  }
 },
 "nbformat": 4,
 "nbformat_minor": 5
}
